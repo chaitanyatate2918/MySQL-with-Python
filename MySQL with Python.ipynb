{
 "cells": [
  {
   "cell_type": "markdown",
   "id": "09703567",
   "metadata": {},
   "source": [
    "# MySQL with Python"
   ]
  },
  {
   "cell_type": "code",
   "execution_count": 2,
   "id": "a35efe32",
   "metadata": {},
   "outputs": [
    {
     "name": "stdout",
     "output_type": "stream",
     "text": [
      "Collecting mysql-connector-python\n",
      "  Downloading mysql_connector_python-9.0.0-cp39-cp39-win_amd64.whl (14.3 MB)\n",
      "Installing collected packages: mysql-connector-python\n",
      "Successfully installed mysql-connector-python-9.0.0\n",
      "Note: you may need to restart the kernel to use updated packages.\n"
     ]
    }
   ],
   "source": [
    "pip install mysql-connector-python"
   ]
  },
  {
   "cell_type": "code",
   "execution_count": 1,
   "id": "afd4c2d4",
   "metadata": {},
   "outputs": [],
   "source": [
    "# Import Library\n",
    "import mysql.connector as sql"
   ]
  },
  {
   "cell_type": "markdown",
   "id": "5790c217",
   "metadata": {},
   "source": [
    "## Create Connection"
   ]
  },
  {
   "cell_type": "code",
   "execution_count": 2,
   "id": "9aff292a",
   "metadata": {},
   "outputs": [
    {
     "name": "stdout",
     "output_type": "stream",
     "text": [
      "<mysql.connector.connection_cext.CMySQLConnection object at 0x000001704D1A5BE0>\n"
     ]
    }
   ],
   "source": [
    "# Create connection\n",
    "\n",
    "connection = sql.connect(\n",
    "host = \"127.0.0.1\",\n",
    "user = \"root\",\n",
    "password = \"Ckt@2002\")\n",
    "\n",
    "print(connection)"
   ]
  },
  {
   "cell_type": "code",
   "execution_count": 3,
   "id": "50236910",
   "metadata": {},
   "outputs": [],
   "source": [
    "curser = connection.cursor()\n",
    "\n",
    "curser.execute(\"SHOW DATABASES\")"
   ]
  },
  {
   "cell_type": "code",
   "execution_count": 4,
   "id": "aac51757",
   "metadata": {},
   "outputs": [
    {
     "name": "stdout",
     "output_type": "stream",
     "text": [
      "('dbms',)\n",
      "('imp',)\n",
      "('information_schema',)\n",
      "('mydb',)\n",
      "('mysql',)\n",
      "('performance_schema',)\n",
      "('student_info',)\n",
      "('sys',)\n",
      "('userdb',)\n"
     ]
    }
   ],
   "source": [
    "for database in curser:\n",
    "    print(database)"
   ]
  },
  {
   "cell_type": "code",
   "execution_count": 5,
   "id": "57e45ed5",
   "metadata": {
    "scrolled": true
   },
   "outputs": [],
   "source": [
    "curser.execute(\"CREATE DATABASE py\")"
   ]
  },
  {
   "cell_type": "code",
   "execution_count": null,
   "id": "3c2e609a",
   "metadata": {},
   "outputs": [],
   "source": [
    "curser.execute(\"DROP TABLE studentinfo\")"
   ]
  },
  {
   "cell_type": "code",
   "execution_count": 7,
   "id": "fe511069",
   "metadata": {},
   "outputs": [],
   "source": [
    "curser.execute(\"DROP DATABASE py\")"
   ]
  },
  {
   "cell_type": "code",
   "execution_count": 6,
   "id": "f1c0a769",
   "metadata": {},
   "outputs": [
    {
     "name": "stdout",
     "output_type": "stream",
     "text": [
      "('dbms',)\n",
      "('imp',)\n",
      "('information_schema',)\n",
      "('mydb',)\n",
      "('mysql',)\n",
      "('performance_schema',)\n",
      "('py',)\n",
      "('student_info',)\n",
      "('sys',)\n",
      "('userdb',)\n"
     ]
    }
   ],
   "source": [
    "curser.execute(\"SHOW DATABASES\")\n",
    "\n",
    "for database in curser:\n",
    "    print(database)"
   ]
  },
  {
   "cell_type": "code",
   "execution_count": 7,
   "id": "bdf811d1",
   "metadata": {},
   "outputs": [],
   "source": [
    "curser.execute(\"use py\")"
   ]
  },
  {
   "cell_type": "markdown",
   "id": "c90b8c02",
   "metadata": {},
   "source": [
    "## Create Table"
   ]
  },
  {
   "cell_type": "code",
   "execution_count": 8,
   "id": "158cd0c7",
   "metadata": {},
   "outputs": [],
   "source": [
    "curser.execute(\"CREATE TABLE studentinfo(\\\n",
    "              id Int AUTO_INCREMENT PRIMARY KEY,\\\n",
    "              name VARCHAR(255),\\\n",
    "              subject VARCHAR(255))\")"
   ]
  },
  {
   "cell_type": "markdown",
   "id": "431378ef",
   "metadata": {},
   "source": [
    "## Insert Records into Table"
   ]
  },
  {
   "cell_type": "code",
   "execution_count": 9,
   "id": "5feb1d3e",
   "metadata": {},
   "outputs": [
    {
     "name": "stdout",
     "output_type": "stream",
     "text": [
      "Rows Inserted 1\n"
     ]
    }
   ],
   "source": [
    "query = \"INSERT INTO studentinfo (name, subject) VALUES (%s, %s)\"\n",
    "values = [(\"Chaitanya\", \"Data Science\"),\n",
    "         (\"Yuva\", \"MLOps\"),\n",
    "         (\"Jayesh\", \"Web Development\"),\n",
    "         (\"Prashant\", \"Data Science\"),\n",
    "          (\"Rajnikant\", \"Data Analytics\"), \n",
    "         (\"Abc\", \"Cyber Security\")]\n",
    "\n",
    "curser.executemany(query, values)\n",
    "\n",
    "print(\"Rows Inserted\", curser.lastrowid)"
   ]
  },
  {
   "cell_type": "markdown",
   "id": "c11dd7d2",
   "metadata": {},
   "source": [
    "## Show Records"
   ]
  },
  {
   "cell_type": "code",
   "execution_count": 12,
   "id": "6a3a7700",
   "metadata": {
    "scrolled": true
   },
   "outputs": [],
   "source": [
    "curser.execute(\"SELECT * FROM studentinfo\")"
   ]
  },
  {
   "cell_type": "code",
   "execution_count": 11,
   "id": "7e72e71c",
   "metadata": {},
   "outputs": [
    {
     "data": {
      "text/plain": [
       "[(1, 'Chaitanya', 'Data Science'),\n",
       " (2, 'Yuva', 'MLOps'),\n",
       " (3, 'Jayesh', 'Web Development'),\n",
       " (4, 'Prashant', 'Data Science'),\n",
       " (5, 'Rajnikant', 'Data Analytics'),\n",
       " (6, 'Abc', 'Cyber Security')]"
      ]
     },
     "execution_count": 11,
     "metadata": {},
     "output_type": "execute_result"
    }
   ],
   "source": [
    "# fetch all records\n",
    "curser.fetchall()"
   ]
  },
  {
   "cell_type": "code",
   "execution_count": 13,
   "id": "ff6df5b1",
   "metadata": {},
   "outputs": [],
   "source": [
    "lst = curser.fetchall()"
   ]
  },
  {
   "cell_type": "code",
   "execution_count": 14,
   "id": "db97d5e1",
   "metadata": {},
   "outputs": [
    {
     "name": "stdout",
     "output_type": "stream",
     "text": [
      "(1, 'Chaitanya', 'Data Science')\n",
      "(2, 'Yuva', 'MLOps')\n",
      "(3, 'Jayesh', 'Web Development')\n",
      "(4, 'Prashant', 'Data Science')\n",
      "(5, 'Rajnikant', 'Data Analytics')\n",
      "(6, 'Abc', 'Cyber Security')\n"
     ]
    }
   ],
   "source": [
    "for records in lst:\n",
    "    print(records)"
   ]
  },
  {
   "cell_type": "code",
   "execution_count": 17,
   "id": "b37f1ccc",
   "metadata": {},
   "outputs": [
    {
     "data": {
      "text/plain": [
       "(1, 'Chaitanya', 'Data Science')"
      ]
     },
     "execution_count": 17,
     "metadata": {},
     "output_type": "execute_result"
    }
   ],
   "source": [
    "# Fetch one record at a time\n",
    "#curser.fetchone()"
   ]
  },
  {
   "cell_type": "markdown",
   "id": "602961e9",
   "metadata": {},
   "source": [
    "## Show Particular Records"
   ]
  },
  {
   "cell_type": "code",
   "execution_count": 15,
   "id": "3168c19b",
   "metadata": {
    "scrolled": true
   },
   "outputs": [
    {
     "data": {
      "text/plain": [
       "[(1, 'Chaitanya', 'Data Science'), (4, 'Prashant', 'Data Science')]"
      ]
     },
     "execution_count": 15,
     "metadata": {},
     "output_type": "execute_result"
    }
   ],
   "source": [
    "curser.execute(\"SELECT * FROM studentinfo WHERE subject='Data Science'\")\n",
    "curser.fetchall()"
   ]
  },
  {
   "cell_type": "code",
   "execution_count": 16,
   "id": "cea03ad3",
   "metadata": {},
   "outputs": [
    {
     "data": {
      "text/plain": [
       "[('Yuva',)]"
      ]
     },
     "execution_count": 16,
     "metadata": {},
     "output_type": "execute_result"
    }
   ],
   "source": [
    "curser.execute(\"SELECT name FROM studentinfo WHERE subject='MLOps'\")\n",
    "curser.fetchall()"
   ]
  },
  {
   "cell_type": "code",
   "execution_count": 17,
   "id": "758a3539",
   "metadata": {},
   "outputs": [
    {
     "data": {
      "text/plain": [
       "[('Data Science',),\n",
       " ('MLOps',),\n",
       " ('Web Development',),\n",
       " ('Data Analytics',),\n",
       " ('Cyber Security',)]"
      ]
     },
     "execution_count": 17,
     "metadata": {},
     "output_type": "execute_result"
    }
   ],
   "source": [
    "# Select Distinct Subjects\n",
    "curser.execute(\"SELECT DISTINCT subject FROM studentinfo\")\n",
    "curser.fetchall()"
   ]
  },
  {
   "cell_type": "code",
   "execution_count": 18,
   "id": "fcc21963",
   "metadata": {},
   "outputs": [
    {
     "data": {
      "text/plain": [
       "[('Chaitanya', 'Data Science'),\n",
       " ('Jayesh', 'Web Development'),\n",
       " ('Prashant', 'Data Science')]"
      ]
     },
     "execution_count": 18,
     "metadata": {},
     "output_type": "execute_result"
    }
   ],
   "source": [
    "curser.execute(\"SELECT name,subject FROM studentinfo WHERE name='Jayesh' OR subject='Data Science'\")\n",
    "curser.fetchall()"
   ]
  },
  {
   "cell_type": "markdown",
   "id": "50dc47ac",
   "metadata": {},
   "source": [
    "## Drop Table & Database"
   ]
  },
  {
   "cell_type": "code",
   "execution_count": 21,
   "id": "faceb29a",
   "metadata": {},
   "outputs": [],
   "source": [
    "# Drop table\n",
    "curser.execute(\"DROP TABLE studentinfo\")"
   ]
  },
  {
   "cell_type": "code",
   "execution_count": 22,
   "id": "2a6c1c7b",
   "metadata": {},
   "outputs": [],
   "source": [
    "curser.execute(\"SHOW TABLES\")"
   ]
  },
  {
   "cell_type": "code",
   "execution_count": 23,
   "id": "d4b40c7a",
   "metadata": {},
   "outputs": [],
   "source": [
    "for table in curser:\n",
    "    print(table)"
   ]
  },
  {
   "cell_type": "code",
   "execution_count": 24,
   "id": "d0cbaa3c",
   "metadata": {},
   "outputs": [],
   "source": [
    "curser.execute(\"DROP DATABASE py\")"
   ]
  },
  {
   "cell_type": "code",
   "execution_count": 25,
   "id": "d3e3b2e2",
   "metadata": {},
   "outputs": [],
   "source": [
    "curser.execute(\"SHOW DATABASES\")"
   ]
  },
  {
   "cell_type": "code",
   "execution_count": 26,
   "id": "e6c1823b",
   "metadata": {},
   "outputs": [
    {
     "name": "stdout",
     "output_type": "stream",
     "text": [
      "('dbms',)\n",
      "('imp',)\n",
      "('information_schema',)\n",
      "('mydb',)\n",
      "('mysql',)\n",
      "('performance_schema',)\n",
      "('student_info',)\n",
      "('sys',)\n",
      "('userdb',)\n"
     ]
    }
   ],
   "source": [
    "for database in curser:\n",
    "    print(database)"
   ]
  },
  {
   "cell_type": "code",
   "execution_count": null,
   "id": "bd0da44c",
   "metadata": {},
   "outputs": [],
   "source": []
  }
 ],
 "metadata": {
  "kernelspec": {
   "display_name": "Python 3 (ipykernel)",
   "language": "python",
   "name": "python3"
  },
  "language_info": {
   "codemirror_mode": {
    "name": "ipython",
    "version": 3
   },
   "file_extension": ".py",
   "mimetype": "text/x-python",
   "name": "python",
   "nbconvert_exporter": "python",
   "pygments_lexer": "ipython3",
   "version": "3.9.12"
  }
 },
 "nbformat": 4,
 "nbformat_minor": 5
}
